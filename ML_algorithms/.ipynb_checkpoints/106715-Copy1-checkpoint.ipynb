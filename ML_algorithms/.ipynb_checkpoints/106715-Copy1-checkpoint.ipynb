{
 "cells": [
  {
   "cell_type": "code",
   "execution_count": 1,
   "metadata": {},
   "outputs": [],
   "source": [
    "import pandas as pd\n",
    "import numpy as np\n",
    "import matplotlib.pyplot as pyplot\n",
    "import numpy as np\n",
    "from sklearn import tree\n",
    "from scipy.stats import zscore\n",
    "import sys\n",
    "np.set_printoptions(threshold=sys.maxsize)"
   ]
  },
  {
   "cell_type": "code",
   "execution_count": 2,
   "metadata": {},
   "outputs": [],
   "source": [
    "from sklearn.model_selection import train_test_split\n",
    "from sklearn.model_selection import cross_val_score\n",
    "from sklearn.model_selection import StratifiedKFold\n",
    "from sklearn.metrics import classification_report\n",
    "from sklearn.metrics import confusion_matrix\n",
    "from sklearn.metrics import accuracy_score\n",
    "from sklearn.linear_model import LogisticRegression\n",
    "from sklearn.tree import DecisionTreeClassifier\n",
    "from sklearn.neighbors import KNeighborsClassifier\n",
    "from sklearn.discriminant_analysis import LinearDiscriminantAnalysis\n",
    "from sklearn.naive_bayes import GaussianNB\n",
    "from sklearn.svm import SVC\n",
    "from sklearn.ensemble import RandomForestRegressor\n",
    "from sklearn import metrics\n",
    "from pandas.api.types import CategoricalDtype\n",
    "from sklearn.preprocessing import OneHotEncoder"
   ]
  },
  {
   "cell_type": "code",
   "execution_count": 3,
   "metadata": {},
   "outputs": [],
   "source": [
    "df = pd.read_csv(\"TrainOnMe.csv\")\n",
    "#df.set_index('id',inplace=True)\n",
    "#df['id'].is_unique\n",
    "df.drop('id', inplace=True, axis=1)\n",
    "df.dropna(inplace=True)\n",
    "df['x5'] = df['x5'].str.lower()\n",
    "df['x6'] = df['x6'].str.lower()\n",
    "\n",
    "y_allowed = ['Bob', 'Atsuto', 'Jörg']\n",
    "x5_allowed = ['true','false']\n",
    "x6_allowed = ['a','b','c','d','e','f','fx']    \n",
    "\n",
    "\n",
    "\n",
    "\n",
    "# Create the encoder.\n",
    "encoder = OneHotEncoder(handle_unknown=\"ignore\")\n",
    "\n",
    "x5_type = CategoricalDtype(categories=x5_allowed, ordered=True)\n",
    "x6_type = CategoricalDtype(categories=x6_allowed, ordered=True)\n",
    "\n",
    "df['y'] = df['y'].astype('category')\n",
    "df['x5'] = df['x5'].astype(x5_type)\n",
    "df['x6'] = df['x6'].astype(x6_type)\n",
    "\n",
    "\n",
    "df = df[df['y'].isin(y_allowed)]\n",
    "df = df[df['x5'].isin(x5_allowed)]\n",
    "df = df[df['x6'].isin(x6_allowed)]\n",
    "\n",
    "#df['y'] = df['y'].cat.codes\n",
    "\n",
    "\n",
    "#df.drop('x5', inplace=True, axis=1)\n",
    "#df.drop('x6', inplace=True, axis=1)"
   ]
  },
  {
   "cell_type": "code",
   "execution_count": 4,
   "metadata": {},
   "outputs": [
    {
     "data": {
      "text/plain": [
       "y      category\n",
       "x1      float64\n",
       "x2      float64\n",
       "x3      float64\n",
       "x4      float64\n",
       "x5     category\n",
       "x6     category\n",
       "x7      float64\n",
       "x8      float64\n",
       "x9      float64\n",
       "x10     float64\n",
       "dtype: object"
      ]
     },
     "execution_count": 4,
     "metadata": {},
     "output_type": "execute_result"
    }
   ],
   "source": [
    "to_float = ['x1','x2','x3','x4','x7','x8','x9','x10']\n",
    "for column in to_float:\n",
    "    df[column] = pd.to_numeric(df[column],errors='coerce')\n",
    "\n",
    "df.dtypes"
   ]
  },
  {
   "cell_type": "code",
   "execution_count": 5,
   "metadata": {
    "scrolled": true
   },
   "outputs": [],
   "source": [
    "sub_set = df[to_float]\n",
    "z_scores = zscore(sub_set)\n",
    "abs_z_scores = np.abs(z_scores)\n",
    "#print(abs_z_scores)\n",
    "filtered_entries = (abs_z_scores < 3).all(axis=1)\n",
    "df = df[filtered_entries]\n",
    "#df[(np.abs(zscore(sub_set)) < 3).all(axis=1)]"
   ]
  },
  {
   "cell_type": "code",
   "execution_count": 6,
   "metadata": {},
   "outputs": [
    {
     "name": "stdout",
     "output_type": "stream",
     "text": [
      "         y       x1       x2       x3       x4     x5 x6       x7       x8  \\\n",
      "0      Bob -0.78103 -0.63375 -0.03665  0.27517  false  f -1.85755  0.22668   \n",
      "1      Bob  0.42649 -0.50019  0.00696  0.11817  false  f -1.73761 -1.61015   \n",
      "2   Atsuto  1.86817 -0.45565  0.07658  0.09662  false  f  1.02798 -0.92326   \n",
      "3   Atsuto -1.80073  0.08535 -0.02467  0.14032  false  f  2.02793 -0.46318   \n",
      "4      Bob  1.56943 -1.25860 -0.02092  0.22267  false  f -0.43304 -1.99881   \n",
      "5     Jörg  0.14361 -0.37353 -1.01562  1.00364  false  f -0.05208  0.21060   \n",
      "6      Bob -0.34399 -1.16045  0.21745  0.07107  false  f -0.67029  0.03244   \n",
      "7      Bob -0.05407 -0.47607 -0.56841  0.65207  false  f -1.85532 -0.63706   \n",
      "8   Atsuto -0.71673 -0.27256 -0.38471  0.50048  false  f -1.40870  1.59564   \n",
      "9      Bob -0.13301  0.31355 -0.92791  0.88101  false  f  0.25196 -0.25724   \n",
      "10  Atsuto -1.12513 -0.24434 -0.94695  0.95083  false  f  0.06075 -0.87900   \n",
      "11     Bob  0.78906  0.40426 -0.00116  0.10488   true  e -0.82565 -2.05912   \n",
      "\n",
      "         x9      x10  \n",
      "0  -2.35130  1.42092  \n",
      "1  -5.12219  1.87723  \n",
      "2  -1.67111  2.07828  \n",
      "3   2.41329 -0.62963  \n",
      "4  -1.58241  2.28423  \n",
      "5  -0.29282  3.84481  \n",
      "6  -3.17673  1.74463  \n",
      "7  -0.44894  2.58572  \n",
      "8  -1.92357  0.05368  \n",
      "9  -1.00409  1.15892  \n",
      "10  0.71193  1.96878  \n",
      "11 -2.07703 -1.22726  \n",
      "(977, 11)\n",
      "               x1          x2          x3          x4          x7          x8  \\\n",
      "count  977.000000  977.000000  977.000000  977.000000  977.000000  977.000000   \n",
      "mean     0.002757    0.030035   -0.442545    0.548210   -0.083120   -0.211008   \n",
      "std      1.350387    0.997265    0.407292    0.352656    1.441374    1.329072   \n",
      "min     -3.910390   -2.595780   -1.489320   -0.065550   -3.467200   -3.160020   \n",
      "25%     -1.012550   -0.652170   -0.718540    0.264910   -1.113690   -1.145670   \n",
      "50%      0.054700   -0.001490   -0.426710    0.523930   -0.375020   -0.494530   \n",
      "75%      0.935200    0.722610   -0.118790    0.787260    0.891970    0.520930   \n",
      "max      3.735430    2.939340    0.408030    1.383830    5.179980    4.752890   \n",
      "\n",
      "               x9         x10  \n",
      "count  977.000000  977.000000  \n",
      "mean    -1.024567    1.129497  \n",
      "std      1.934941    1.223012  \n",
      "min     -6.590650   -2.494060  \n",
      "25%     -2.347630    0.328840  \n",
      "50%     -1.383320    1.116210  \n",
      "75%     -0.107560    1.907150  \n",
      "max      4.641350    4.795050  \n"
     ]
    }
   ],
   "source": [
    "# Inspect first few rows\n",
    "print(df.head(12))\n",
    "\n",
    "# Inspect data shape\n",
    "print(df.shape)\n",
    "\n",
    "# Inspect descriptive stats\n",
    "print(df.describe())\n",
    "\n",
    "# # View univariate histgram plots\n",
    "#     # Select just the numeric features\n",
    "# df = df.select_dtypes(include=[np.number])\n",
    "\n",
    "# # Compute the layout grid size\n",
    "# data_cols = len(df.columns)\n",
    "# unit_size = 5\n",
    "# layout_cols = 4\n",
    "# layout_rows = int(data_cols/layout_cols+layout_cols)\n",
    "\n",
    "# # Make the plots\n",
    "# df.hist(figsize=(layout_cols*unit_size,layout_rows*unit_size), layout=(layout_rows,layout_cols))\n",
    "\n",
    "# pyplot.show()   \n",
    "\n",
    "# # View univariate box plots\n",
    "# #boxPlotAll(df)\n",
    "\n",
    "\n",
    "# # Compute the layout grid size\n",
    "# data_cols = len(df.columns)\n",
    "# unit_size = 5\n",
    "# layout_cols = 4\n",
    "# layout_rows = int(data_cols/layout_cols+layout_cols)\n",
    "\n",
    "# # Make the plots\n",
    "# df.plot(kind='box', subplots=True, figsize=(layout_cols*unit_size,layout_rows*unit_size), layout=(layout_rows,layout_cols))\n",
    "\n",
    "# pyplot.show()   \n",
    "\n"
   ]
  },
  {
   "cell_type": "code",
   "execution_count": 7,
   "metadata": {},
   "outputs": [
    {
     "data": {
      "text/plain": [
       "y       Atsuto\n",
       "x1     1.17173\n",
       "x2    -0.29053\n",
       "x3     0.10333\n",
       "x4     0.10422\n",
       "x5       false\n",
       "x6           f\n",
       "x7     2.75447\n",
       "x8    -0.32875\n",
       "x9    -2.03535\n",
       "x10    0.84852\n",
       "Name: 100, dtype: object"
      ]
     },
     "execution_count": 7,
     "metadata": {},
     "output_type": "execute_result"
    }
   ],
   "source": [
    "df.loc[100]"
   ]
  },
  {
   "cell_type": "code",
   "execution_count": 8,
   "metadata": {},
   "outputs": [
    {
     "data": {
      "text/plain": [
       "0       Bob\n",
       "1       Bob\n",
       "2    Atsuto\n",
       "Name: y, dtype: category\n",
       "Categories (3, object): ['Atsuto', 'Bob', 'Jörg']"
      ]
     },
     "execution_count": 8,
     "metadata": {},
     "output_type": "execute_result"
    }
   ],
   "source": [
    "df.loc[0:2,'y'].head(10)"
   ]
  },
  {
   "cell_type": "code",
   "execution_count": 9,
   "metadata": {},
   "outputs": [
    {
     "name": "stdout",
     "output_type": "stream",
     "text": [
      "['Bob', 'Atsuto', 'Jörg']\n",
      "Categories (3, object): ['Bob', 'Atsuto', 'Jörg']\n",
      "['false', 'true']\n",
      "Categories (2, object): ['true' < 'false']\n",
      "['f', 'e', 'a', 'd', 'b', 'fx', 'c']\n",
      "Categories (7, object): ['a' < 'b' < 'c' < 'd' < 'e' < 'f' < 'fx']\n"
     ]
    }
   ],
   "source": [
    "print(df.y.unique())\n",
    "print(df.x5.unique())\n",
    "print(df.x6.unique())"
   ]
  },
  {
   "cell_type": "code",
   "execution_count": 10,
   "metadata": {},
   "outputs": [
    {
     "ename": "ValueError",
     "evalue": "columns overlap but no suffix specified: Index([0, 1], dtype='object')",
     "output_type": "error",
     "traceback": [
      "\u001b[0;31m---------------------------------------------------------------------------\u001b[0m",
      "\u001b[0;31mValueError\u001b[0m                                Traceback (most recent call last)",
      "\u001b[0;32m<ipython-input-10-5a94624ba687>\u001b[0m in \u001b[0;36m<module>\u001b[0;34m\u001b[0m\n\u001b[1;32m      5\u001b[0m \u001b[0;31m# merge with main df bridge_df on key values\u001b[0m\u001b[0;34m\u001b[0m\u001b[0;34m\u001b[0m\u001b[0;34m\u001b[0m\u001b[0m\n\u001b[1;32m      6\u001b[0m \u001b[0mdf\u001b[0m \u001b[0;34m=\u001b[0m \u001b[0mdf\u001b[0m\u001b[0;34m.\u001b[0m\u001b[0mjoin\u001b[0m\u001b[0;34m(\u001b[0m\u001b[0menc_df_x5\u001b[0m\u001b[0;34m)\u001b[0m\u001b[0;34m\u001b[0m\u001b[0;34m\u001b[0m\u001b[0m\n\u001b[0;32m----> 7\u001b[0;31m \u001b[0mdf\u001b[0m \u001b[0;34m=\u001b[0m \u001b[0mdf\u001b[0m\u001b[0;34m.\u001b[0m\u001b[0mjoin\u001b[0m\u001b[0;34m(\u001b[0m\u001b[0menc_df_x6\u001b[0m\u001b[0;34m)\u001b[0m\u001b[0;34m\u001b[0m\u001b[0;34m\u001b[0m\u001b[0m\n\u001b[0m\u001b[1;32m      8\u001b[0m \u001b[0mprint\u001b[0m\u001b[0;34m(\u001b[0m\u001b[0mdf\u001b[0m\u001b[0;34m.\u001b[0m\u001b[0mhead\u001b[0m\u001b[0;34m(\u001b[0m\u001b[0;36m12\u001b[0m\u001b[0;34m)\u001b[0m\u001b[0;34m)\u001b[0m\u001b[0;34m\u001b[0m\u001b[0;34m\u001b[0m\u001b[0m\n",
      "\u001b[0;32m~/.local/lib/python3.6/site-packages/pandas/core/frame.py\u001b[0m in \u001b[0;36mjoin\u001b[0;34m(self, other, on, how, lsuffix, rsuffix, sort)\u001b[0m\n\u001b[1;32m   7868\u001b[0m         \"\"\"\n\u001b[1;32m   7869\u001b[0m         return self._join_compat(\n\u001b[0;32m-> 7870\u001b[0;31m             \u001b[0mother\u001b[0m\u001b[0;34m,\u001b[0m \u001b[0mon\u001b[0m\u001b[0;34m=\u001b[0m\u001b[0mon\u001b[0m\u001b[0;34m,\u001b[0m \u001b[0mhow\u001b[0m\u001b[0;34m=\u001b[0m\u001b[0mhow\u001b[0m\u001b[0;34m,\u001b[0m \u001b[0mlsuffix\u001b[0m\u001b[0;34m=\u001b[0m\u001b[0mlsuffix\u001b[0m\u001b[0;34m,\u001b[0m \u001b[0mrsuffix\u001b[0m\u001b[0;34m=\u001b[0m\u001b[0mrsuffix\u001b[0m\u001b[0;34m,\u001b[0m \u001b[0msort\u001b[0m\u001b[0;34m=\u001b[0m\u001b[0msort\u001b[0m\u001b[0;34m\u001b[0m\u001b[0;34m\u001b[0m\u001b[0m\n\u001b[0m\u001b[1;32m   7871\u001b[0m         )\n\u001b[1;32m   7872\u001b[0m \u001b[0;34m\u001b[0m\u001b[0m\n",
      "\u001b[0;32m~/.local/lib/python3.6/site-packages/pandas/core/frame.py\u001b[0m in \u001b[0;36m_join_compat\u001b[0;34m(self, other, on, how, lsuffix, rsuffix, sort)\u001b[0m\n\u001b[1;32m   7891\u001b[0m                 \u001b[0mright_index\u001b[0m\u001b[0;34m=\u001b[0m\u001b[0;32mTrue\u001b[0m\u001b[0;34m,\u001b[0m\u001b[0;34m\u001b[0m\u001b[0;34m\u001b[0m\u001b[0m\n\u001b[1;32m   7892\u001b[0m                 \u001b[0msuffixes\u001b[0m\u001b[0;34m=\u001b[0m\u001b[0;34m(\u001b[0m\u001b[0mlsuffix\u001b[0m\u001b[0;34m,\u001b[0m \u001b[0mrsuffix\u001b[0m\u001b[0;34m)\u001b[0m\u001b[0;34m,\u001b[0m\u001b[0;34m\u001b[0m\u001b[0;34m\u001b[0m\u001b[0m\n\u001b[0;32m-> 7893\u001b[0;31m                 \u001b[0msort\u001b[0m\u001b[0;34m=\u001b[0m\u001b[0msort\u001b[0m\u001b[0;34m,\u001b[0m\u001b[0;34m\u001b[0m\u001b[0;34m\u001b[0m\u001b[0m\n\u001b[0m\u001b[1;32m   7894\u001b[0m             )\n\u001b[1;32m   7895\u001b[0m         \u001b[0;32melse\u001b[0m\u001b[0;34m:\u001b[0m\u001b[0;34m\u001b[0m\u001b[0;34m\u001b[0m\u001b[0m\n",
      "\u001b[0;32m~/.local/lib/python3.6/site-packages/pandas/core/reshape/merge.py\u001b[0m in \u001b[0;36mmerge\u001b[0;34m(left, right, how, on, left_on, right_on, left_index, right_index, sort, suffixes, copy, indicator, validate)\u001b[0m\n\u001b[1;32m     87\u001b[0m         \u001b[0mvalidate\u001b[0m\u001b[0;34m=\u001b[0m\u001b[0mvalidate\u001b[0m\u001b[0;34m,\u001b[0m\u001b[0;34m\u001b[0m\u001b[0;34m\u001b[0m\u001b[0m\n\u001b[1;32m     88\u001b[0m     )\n\u001b[0;32m---> 89\u001b[0;31m     \u001b[0;32mreturn\u001b[0m \u001b[0mop\u001b[0m\u001b[0;34m.\u001b[0m\u001b[0mget_result\u001b[0m\u001b[0;34m(\u001b[0m\u001b[0;34m)\u001b[0m\u001b[0;34m\u001b[0m\u001b[0;34m\u001b[0m\u001b[0m\n\u001b[0m\u001b[1;32m     90\u001b[0m \u001b[0;34m\u001b[0m\u001b[0m\n\u001b[1;32m     91\u001b[0m \u001b[0;34m\u001b[0m\u001b[0m\n",
      "\u001b[0;32m~/.local/lib/python3.6/site-packages/pandas/core/reshape/merge.py\u001b[0m in \u001b[0;36mget_result\u001b[0;34m(self)\u001b[0m\n\u001b[1;32m    669\u001b[0m \u001b[0;34m\u001b[0m\u001b[0m\n\u001b[1;32m    670\u001b[0m         llabels, rlabels = _items_overlap_with_suffix(\n\u001b[0;32m--> 671\u001b[0;31m             \u001b[0mself\u001b[0m\u001b[0;34m.\u001b[0m\u001b[0mleft\u001b[0m\u001b[0;34m.\u001b[0m\u001b[0m_info_axis\u001b[0m\u001b[0;34m,\u001b[0m \u001b[0mself\u001b[0m\u001b[0;34m.\u001b[0m\u001b[0mright\u001b[0m\u001b[0;34m.\u001b[0m\u001b[0m_info_axis\u001b[0m\u001b[0;34m,\u001b[0m \u001b[0mself\u001b[0m\u001b[0;34m.\u001b[0m\u001b[0msuffixes\u001b[0m\u001b[0;34m\u001b[0m\u001b[0;34m\u001b[0m\u001b[0m\n\u001b[0m\u001b[1;32m    672\u001b[0m         )\n\u001b[1;32m    673\u001b[0m \u001b[0;34m\u001b[0m\u001b[0m\n",
      "\u001b[0;32m~/.local/lib/python3.6/site-packages/pandas/core/reshape/merge.py\u001b[0m in \u001b[0;36m_items_overlap_with_suffix\u001b[0;34m(left, right, suffixes)\u001b[0m\n\u001b[1;32m   2089\u001b[0m \u001b[0;34m\u001b[0m\u001b[0m\n\u001b[1;32m   2090\u001b[0m     \u001b[0;32mif\u001b[0m \u001b[0;32mnot\u001b[0m \u001b[0mlsuffix\u001b[0m \u001b[0;32mand\u001b[0m \u001b[0;32mnot\u001b[0m \u001b[0mrsuffix\u001b[0m\u001b[0;34m:\u001b[0m\u001b[0;34m\u001b[0m\u001b[0;34m\u001b[0m\u001b[0m\n\u001b[0;32m-> 2091\u001b[0;31m         \u001b[0;32mraise\u001b[0m \u001b[0mValueError\u001b[0m\u001b[0;34m(\u001b[0m\u001b[0;34mf\"columns overlap but no suffix specified: {to_rename}\"\u001b[0m\u001b[0;34m)\u001b[0m\u001b[0;34m\u001b[0m\u001b[0;34m\u001b[0m\u001b[0m\n\u001b[0m\u001b[1;32m   2092\u001b[0m \u001b[0;34m\u001b[0m\u001b[0m\n\u001b[1;32m   2093\u001b[0m     \u001b[0;32mdef\u001b[0m \u001b[0mrenamer\u001b[0m\u001b[0;34m(\u001b[0m\u001b[0mx\u001b[0m\u001b[0;34m,\u001b[0m \u001b[0msuffix\u001b[0m\u001b[0;34m)\u001b[0m\u001b[0;34m:\u001b[0m\u001b[0;34m\u001b[0m\u001b[0;34m\u001b[0m\u001b[0m\n",
      "\u001b[0;31mValueError\u001b[0m: columns overlap but no suffix specified: Index([0, 1], dtype='object')"
     ]
    }
   ],
   "source": [
    "enc = OneHotEncoder(handle_unknown='ignore')\n",
    "sub_set = df[['x5','x6']]\n",
    "# passing bridge-types-cat column (label encoded values of bridge_types)\n",
    "enc_df_x5 = pd.DataFrame(enc.fit_transform(df[['x5']]).toarray())\n",
    "enc_df_x6 = pd.DataFrame(enc.fit_transform(df[['x6']]).toarray())\n",
    "# merge with main df bridge_df on key values\n",
    "df = df.join(enc_df_x5)\n",
    "df = df.join(enc_df_x6)\n",
    "print(df.head(12))"
   ]
  },
  {
   "cell_type": "code",
   "execution_count": 12,
   "metadata": {},
   "outputs": [
    {
     "data": {
      "text/plain": [
       "OneHotEncoder(handle_unknown='ignore')"
      ]
     },
     "execution_count": 12,
     "metadata": {},
     "output_type": "execute_result"
    }
   ],
   "source": [
    "sub_set = df[['x5','x6']]\n",
    "encoder.fit(sub_set)"
   ]
  },
  {
   "cell_type": "code",
   "execution_count": null,
   "metadata": {},
   "outputs": [],
   "source": [
    "# Split-out validation dataset\n",
    "\n",
    "array = df.values\n",
    "X = array[:,1:]\n",
    "Y = array[:,0]\n",
    "Y=Y.astype(str)\n",
    "X_train, X_validation, Y_train, Y_validation = train_test_split(X, Y, test_size=0.20, random_state=1)"
   ]
  },
  {
   "cell_type": "code",
   "execution_count": null,
   "metadata": {},
   "outputs": [],
   "source": [
    "# Spot Check Algorithms\n",
    "models = []\n",
    "models.append(('LR', LogisticRegression(solver='liblinear', multi_class='ovr')))\n",
    "models.append(('LDA', LinearDiscriminantAnalysis()))\n",
    "models.append(('KNN', KNeighborsClassifier()))\n",
    "models.append(('CART', DecisionTreeClassifier()))\n",
    "models.append(('NB', GaussianNB()))\n",
    "models.append(('SVM', SVC(gamma='auto')))\n",
    "\n",
    "# evaluate each model in turn\n",
    "results = []\n",
    "names = []\n",
    "for name, model in models:\n",
    "    kfold = StratifiedKFold(n_splits=2, random_state=1, shuffle=True)\n",
    "    cv_results = cross_val_score(model, X_train, Y_train, cv=kfold, scoring='accuracy')\n",
    "    results.append(cv_results)\n",
    "    names.append(name)\n",
    "    print('%s: %f (%f)' % (name, cv_results.mean(), cv_results.std()))\n",
    "    \n",
    "# rf = RandomForestRegressor(n_estimators = 1000, random_state = 42)\n",
    "# # Train the model on training data\n",
    "# rf.fit(X_train, Y_train);\n",
    "# # Use the forest's predict method on the test data\n",
    "# predictions = rf.predict(X_validation)\n",
    "# print(predictions)\n",
    "\n",
    "# print(\"Accuracy:\",metrics.accuracy_score(Y_validation, predictions))\n",
    "# Calculate the absolute errors\n",
    "#errors = abs(predictions - Y_validation)\n",
    "# Print out the mean absolute error (mae)\n",
    "#print('Mean Absolute Error:', round(np.mean(errors), 2), 'degrees.')"
   ]
  },
  {
   "cell_type": "code",
   "execution_count": null,
   "metadata": {},
   "outputs": [],
   "source": [
    "pyplot.boxplot(results, labels=names)\n",
    "pyplot.title('Algorithm Comparison')\n",
    "pyplot.show()"
   ]
  },
  {
   "cell_type": "code",
   "execution_count": null,
   "metadata": {},
   "outputs": [],
   "source": [
    "model = SVC(gamma='auto')\n",
    "model.fit(X_train, Y_train)\n",
    "predictions = model.predict(X_validation)"
   ]
  },
  {
   "cell_type": "code",
   "execution_count": null,
   "metadata": {},
   "outputs": [],
   "source": [
    "print(accuracy_score(Y_validation, predictions))\n",
    "print(confusion_matrix(Y_validation, predictions))\n",
    "print(classification_report(Y_validation, predictions))"
   ]
  },
  {
   "cell_type": "code",
   "execution_count": null,
   "metadata": {},
   "outputs": [],
   "source": [
    "df_eval = pd.read_csv(\"EvaluateOnMe.csv\")\n",
    "#df.set_index('id',inplace=True)\n",
    "#df['id'].is_unique\n",
    "\n",
    "df_eval.rename({\"Unnamed: 0\":\"id\"}, axis=\"columns\", inplace=True)\n",
    "df_eval.drop([\"id\"], axis=1, inplace=True)\n",
    "\n",
    "df_eval['x5'] = df_eval['x5'].astype(str)\n",
    "df_eval['x5'] = df_eval['x5'].str.lower()\n",
    "df_eval['x6'] = df_eval['x6'].str.lower()\n",
    "\n",
    "# df.dropna(inplace=True)\n",
    "# y_allowed = ['Bob', 'Atsuto', 'Jörg']\n",
    "# x5_allowed = ['True','False']\n",
    "# x6_allowed = ['A','B','C','D','E','F','Fx']    \n",
    "\n",
    "#df_eval['y'] = df_eval['y'].astype('category')\n",
    "df_eval['x5'] = df_eval['x5'].astype(x5_type)\n",
    "df_eval['x6'] = df_eval['x6'].astype(x6_type)\n",
    "\n",
    "\n",
    "# df_eval = df_eval[df_eval['y'].isin(y_allowed)]\n",
    "# df_eval = df_eval[df_eval['x5'].isin(x5_allowed)]\n",
    "# df_eval = df_eval[df_eval['x6'].isin(x6_allowed)]\n",
    "\n",
    "#df['y'] = df['y'].cat.codes\n",
    "\n",
    "print(df_eval.x5.unique())\n",
    "print(df_eval.x6.unique())\n",
    "\n",
    "df_eval['x5'] = df_eval['x5'].cat.codes\n",
    "df_eval['x6'] = df_eval['x6'].cat.codes\n",
    "print(df_eval.x5.unique())\n",
    "print(df_eval.x6.unique())"
   ]
  },
  {
   "cell_type": "code",
   "execution_count": null,
   "metadata": {},
   "outputs": [],
   "source": [
    "# Inspect first few rows\n",
    "print(df_eval.head(12))\n",
    "\n",
    "# Inspect data shape\n",
    "print(df_eval.shape)\n",
    "\n",
    "# Inspect descriptive stats\n",
    "print(df_eval.describe())\n",
    "\n",
    "print(df_eval.dtypes)"
   ]
  },
  {
   "cell_type": "code",
   "execution_count": null,
   "metadata": {},
   "outputs": [],
   "source": [
    "evaluate_array = df_eval.values\n",
    "result = model.predict(evaluate_array)\n",
    "print(result)"
   ]
  },
  {
   "cell_type": "code",
   "execution_count": null,
   "metadata": {},
   "outputs": [],
   "source": [
    "with open(\"result\", \"w\") as outfile:\n",
    "    outfile.write(\"\\n\".join(result))"
   ]
  },
  {
   "cell_type": "code",
   "execution_count": null,
   "metadata": {},
   "outputs": [],
   "source": []
  }
 ],
 "metadata": {
  "kernelspec": {
   "display_name": "Python 3",
   "language": "python",
   "name": "python3"
  },
  "language_info": {
   "codemirror_mode": {
    "name": "ipython",
    "version": 3
   },
   "file_extension": ".py",
   "mimetype": "text/x-python",
   "name": "python",
   "nbconvert_exporter": "python",
   "pygments_lexer": "ipython3",
   "version": "3.6.9"
  }
 },
 "nbformat": 4,
 "nbformat_minor": 4
}
