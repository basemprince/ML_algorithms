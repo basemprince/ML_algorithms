{
 "cells": [
  {
   "cell_type": "code",
   "execution_count": 1,
   "metadata": {
    "scrolled": false
   },
   "outputs": [],
   "source": [
    "import numpy as np, random, math\n",
    "from scipy.optimize import minimize\n",
    "import matplotlib.pyplot as plt\n",
    "import collections"
   ]
  },
  {
   "cell_type": "markdown",
   "metadata": {},
   "source": [
    "&bull; Write a code for structuring the data so that the library routine can find the maximal-margin solution.<br>\n",
    "&bull; The location of the decesion boundary is given by the weights (w) and the bias (b).<br>\n",
    "&bull; Find the values for w and b which maximizes the margin (distance to any datapoint).\n",
    "<img src=\"equations/optimize.png\">"
   ]
  },
  {
   "cell_type": "markdown",
   "metadata": {},
   "source": [
    "&bull; &uarr; C value will result in &darr; Slack, which will result in narrower margin\n",
    "\n",
    "&bull; If you have noisy data -> use low C value to allow for more slack"
   ]
  },
  {
   "cell_type": "markdown",
   "metadata": {},
   "source": [
    "# Variables:"
   ]
  },
  {
   "cell_type": "code",
   "execution_count": 2,
   "metadata": {
    "scrolled": false
   },
   "outputs": [],
   "source": [
    "C = 2\n",
    "upper = False # upper boundary for bounds\n",
    "threshold = 10**-5 # zero threshold\n",
    "kernelType = 'pol' # type of kernel (lin,pol,RBF)\n",
    "np.random.seed(100)\n",
    "pointsN=40 # number of data points\n",
    "SD = 0.2 #standard Deviation in the data\n",
    "#kernel settings\n",
    "pol = 4 #polynomial degree\n",
    "sigma = 4 #smoothness of curve in RBF kernel"
   ]
  },
  {
   "cell_type": "markdown",
   "metadata": {},
   "source": [
    "&bull; The objective equation (dual formulation)\n",
    "<img src=\"equations/objective.png\">\n",
    "\n",
    "&bull; The optimization problem can be transformed into a different form, called the dual problem, which has some computational advantages.<br>\n",
    "&bull; It makes it possible to use the kernel trick, which eleminates the need for evualuating the transformation function."
   ]
  },
  {
   "cell_type": "code",
   "execution_count": 3,
   "metadata": {
    "scrolled": false
   },
   "outputs": [],
   "source": [
    "def objective (alpha):\n",
    "    return 0.5*np.dot(alpha,np.dot(alpha,pre_compute)) - np.sum(alpha)"
   ]
  },
  {
   "cell_type": "markdown",
   "metadata": {},
   "source": [
    "the Kernel equations:\n",
    "<img src=\"equations/linearK.png\">\n",
    "<img src=\"equations/polynomialK.png\">\n",
    "<img src=\"equations/RBFK.png\">"
   ]
  },
  {
   "cell_type": "code",
   "execution_count": 4,
   "metadata": {
    "scrolled": false
   },
   "outputs": [],
   "source": [
    "def kernel(a,b,pol,sigma):\n",
    "    if kernelType == 'lin':\n",
    "        return np.dot(a,b)\n",
    "    \n",
    "    elif kernelType == 'pol':\n",
    "        return (np.dot(a,b) + 1)**pol\n",
    "    \n",
    "    elif kernelType == 'RBF':\n",
    "        return math.exp(-np.linalg.norm(np.subtract(a,b),ord=2)/(2*sigma**2))\n",
    "    else:\n",
    "        raise Exception(\"Kernel not found\")"
   ]
  },
  {
   "cell_type": "markdown",
   "metadata": {},
   "source": [
    "Lagrange multiplier constraints:\n",
    "<img src=\"equations/constraint.png\">"
   ]
  },
  {
   "cell_type": "code",
   "execution_count": 5,
   "metadata": {
    "scrolled": false
   },
   "outputs": [],
   "source": [
    "def zerofun (alpha):\n",
    "    \n",
    "    return np.dot(alpha,targets)"
   ]
  },
  {
   "cell_type": "markdown",
   "metadata": {},
   "source": [
    "bias (b) Value:\n",
    "<img src=\"equations/b.png\">"
   ]
  },
  {
   "cell_type": "code",
   "execution_count": 6,
   "metadata": {
    "scrolled": false
   },
   "outputs": [],
   "source": [
    "def b_calculator(non_zero):\n",
    "    b = 0\n",
    "    for current in non_zero:\n",
    "        b += current['alpha']*current['t']*kernel(non_zero[2]['in'],current['in'],pol,sigma)\n",
    "    return b - non_zero[2]['t']"
   ]
  },
  {
   "cell_type": "markdown",
   "metadata": {},
   "source": [
    "indicator equation:\n",
    "<img src=\"equations/indicator.png\">"
   ]
  },
  {
   "cell_type": "code",
   "execution_count": 7,
   "metadata": {
    "scrolled": false
   },
   "outputs": [],
   "source": [
    "def indicator(non_zero,unkown,b):\n",
    "    ind = 0\n",
    "    for current in non_zero:\n",
    "        ind += current['alpha']*current['t']*kernel(unkown,current['in'],pol,sigma)\n",
    "    return ind - b"
   ]
  },
  {
   "cell_type": "code",
   "execution_count": 8,
   "metadata": {
    "scrolled": false
   },
   "outputs": [],
   "source": [
    "classA = np.concatenate((np.random.randn(int(pointsN/2),2)*SD+[1.5,0.5],\n",
    "                        np.random.rand(int(pointsN/2),2)*SD+[-1.5,0.5]))\n",
    "classB = np.random.randn(pointsN,2)*SD+[0.0,-0.5]\n",
    "\n",
    "inputs = np.concatenate ((classA,classB))\n",
    "targets = np.concatenate (\n",
    "(np.ones(classA.shape[0]),\n",
    "-np.ones(classB.shape[0])))\n",
    "\n",
    "N = inputs.shape[0]\n",
    "\n",
    "permute = list(range(N))\n",
    "random.shuffle(permute)\n",
    "inputs = inputs[permute, :]\n",
    "targets = targets [permute]"
   ]
  },
  {
   "cell_type": "code",
   "execution_count": 9,
   "metadata": {
    "scrolled": false
   },
   "outputs": [],
   "source": [
    "pre_compute = np.zeros(shape=(N,N))\n",
    "for i in range(N):\n",
    "    for j in range(N):\n",
    "        pre_compute[i][j]=targets[i]*targets[j]*kernel(inputs[i],inputs[j],pol,sigma)"
   ]
  },
  {
   "cell_type": "code",
   "execution_count": 10,
   "metadata": {
    "scrolled": false
   },
   "outputs": [
    {
     "data": {
      "image/png": "[encoded data removed]",
      "text/plain": [
       "<Figure size 432x288 with 1 Axes>"
      ]
     },
     "metadata": {
      "needs_background": "light"
     },
     "output_type": "display_data"
    }
   ],
   "source": [
    "plt.plot([p[0] for p in classA],\n",
    "        [p[1] for p in classA],\n",
    "        'b.')\n",
    "plt.plot([p[0] for p in classB],\n",
    "        [p[1] for p in classB],\n",
    "        'r.')\n",
    "\n",
    "plt.axis('equal')\n",
    "plt.savefig('svmplot.pdf')\n",
    "plt.show()"
   ]
  },
  {
   "cell_type": "code",
   "execution_count": 11,
   "metadata": {
    "scrolled": false
   },
   "outputs": [
    {
     "name": "stdout",
     "output_type": "stream",
     "text": [
      "zero_function result:  1.1074058337001702e-12\n",
      "     fun: -0.07219084095991629\n",
      "     jac: array([ 4.22431326,  1.32437637, -0.93682843,  1.47524456,  1.29913574,\n",
      "       -0.89185663,  1.0028043 , -0.86683245, -0.94587753,  1.18481931,\n",
      "        1.54701088, -0.86521364,  3.54251377, -0.90157345,  4.23908551,\n",
      "        2.50602344,  4.15350505,  1.68414607,  3.20471623, -0.99881054,\n",
      "       -0.77337546, -0.90158741,  1.14524393,  2.52017134,  1.14264759,\n",
      "        2.30418849, -0.87365033, -0.95033852,  1.38386936, -0.92951395,\n",
      "       -0.86669385,  1.07292165, -0.89884243,  2.22189468,  2.62016238,\n",
      "       -0.99066477, -0.93567947, -0.83225315,  2.25969308, -0.9689492 ,\n",
      "       -0.99175383,  1.4398605 , -0.91918616,  3.73540955,  1.07591637,\n",
      "        1.46059945, -0.91421866, -0.92035346, -0.90210467,  1.40068579,\n",
      "       -0.84672654, -0.97397688,  1.50838223, -0.84688345,  3.53219707,\n",
      "        1.00339247, -0.85071545, -0.88523914, -1.0044717 , -0.84109685,\n",
      "       -0.93810804,  2.03376777, -0.95553041, -0.92614061, -1.00371878,\n",
      "       -0.88686316, -0.84117722,  2.13637906,  5.79327595,  1.19782249,\n",
      "        1.86245345,  2.33798178, -0.84580073,  1.62540959,  1.01432264,\n",
      "       -0.95822966,  1.16762579, -0.92055564, -0.87853353,  1.76812295])\n",
      " message: 'Optimization terminated successfully'\n",
      "    nfev: 734\n",
      "     nit: 9\n",
      "    njev: 9\n",
      "  status: 0\n",
      " success: True\n",
      "       x: array([0.00000000e+00, 5.70111376e-14, 0.00000000e+00, 4.77187227e-14,\n",
      "       5.71717317e-14, 0.00000000e+00, 2.30956823e-02, 0.00000000e+00,\n",
      "       0.00000000e+00, 5.80027340e-14, 4.99617069e-14, 0.00000000e+00,\n",
      "       0.00000000e+00, 0.00000000e+00, 0.00000000e+00, 0.00000000e+00,\n",
      "       0.00000000e+00, 4.61629051e-14, 0.00000000e+00, 3.33303085e-13,\n",
      "       0.00000000e+00, 0.00000000e+00, 6.20825956e-14, 0.00000000e+00,\n",
      "       5.64197741e-14, 0.00000000e+00, 0.00000000e+00, 3.42110926e-15,\n",
      "       5.54270350e-14, 0.00000000e+00, 0.00000000e+00, 6.18586023e-14,\n",
      "       0.00000000e+00, 0.00000000e+00, 0.00000000e+00, 9.73319517e-13,\n",
      "       0.00000000e+00, 0.00000000e+00, 0.00000000e+00, 3.94733477e-15,\n",
      "       7.53591998e-14, 5.11314233e-14, 0.00000000e+00, 0.00000000e+00,\n",
      "       6.34557802e-14, 5.30799311e-14, 0.00000000e+00, 0.00000000e+00,\n",
      "       0.00000000e+00, 5.23116482e-14, 0.00000000e+00, 2.32560250e-15,\n",
      "       4.90398818e-14, 0.00000000e+00, 0.00000000e+00, 4.90633682e-02,\n",
      "       0.00000000e+00, 0.00000000e+00, 3.50861801e-02, 0.00000000e+00,\n",
      "       0.00000000e+00, 0.00000000e+00, 0.00000000e+00, 0.00000000e+00,\n",
      "       3.70728704e-02, 0.00000000e+00, 0.00000000e+00, 0.00000000e+00,\n",
      "       0.00000000e+00, 5.97044909e-14, 0.00000000e+00, 0.00000000e+00,\n",
      "       0.00000000e+00, 4.80641411e-14, 1.40439512e-12, 0.00000000e+00,\n",
      "       5.73433241e-14, 0.00000000e+00, 0.00000000e+00, 3.96355712e-14])\n"
     ]
    }
   ],
   "source": [
    "initial_guess = np.zeros(N)\n",
    "\n",
    "\n",
    "if upper:\n",
    "    B= [(0,C) for b in range(N)]\n",
    "else:\n",
    "    B= [(0,None) for b in range(N)]\n",
    "\n",
    "XC = {'type':'eq','fun':zerofun}\n",
    "\n",
    "ret = minimize(objective,initial_guess,bounds=B,constraints=XC)\n",
    "\n",
    "alpha = ret['x']\n",
    "print (\"zero_function result: \", np.dot(alpha,targets))\n",
    "print(ret)"
   ]
  },
  {
   "cell_type": "code",
   "execution_count": 12,
   "metadata": {
    "scrolled": false
   },
   "outputs": [
    {
     "data": {
      "text/plain": [
       "[{'alpha': 0.023095682252216386,\n",
       "  'in': array([-1.30859748,  0.61959474]),\n",
       "  't': 1.0},\n",
       " {'alpha': 0.04906336824480565,\n",
       "  'in': array([1.22872019, 0.2535131 ]),\n",
       "  't': 1.0},\n",
       " {'alpha': 0.03508618007906494,\n",
       "  'in': array([ 0.45973079, -0.53304191]),\n",
       "  't': -1.0},\n",
       " {'alpha': 0.037072870417888,\n",
       "  'in': array([-0.3081232 , -0.09065721]),\n",
       "  't': -1.0}]"
      ]
     },
     "execution_count": 12,
     "metadata": {},
     "output_type": "execute_result"
    }
   ],
   "source": [
    "non_zero = []\n",
    "for i, a in enumerate(alpha):\n",
    "    #print(a)\n",
    "    if a > threshold:\n",
    "        non_zero.append({'alpha':a,'in':inputs[i],'t':targets[i]})\n",
    "non_zero"
   ]
  },
  {
   "cell_type": "code",
   "execution_count": 13,
   "metadata": {
    "scrolled": false
   },
   "outputs": [],
   "source": [
    "b = b_calculator(non_zero)"
   ]
  },
  {
   "cell_type": "code",
   "execution_count": 14,
   "metadata": {
    "scrolled": false
   },
   "outputs": [
    {
     "data": {
      "image/png": "[encoded data removed]",
      "text/plain": [
       "<Figure size 432x288 with 1 Axes>"
      ]
     },
     "metadata": {
      "needs_background": "light"
     },
     "output_type": "display_data"
    }
   ],
   "source": [
    "x_limits = 4\n",
    "y_limits = 5\n",
    "xgrid = np.linspace(-x_limits,x_limits)\n",
    "ygrid = np.linspace(-y_limits,y_limits)\n",
    "\n",
    "grid = np.array([[indicator(non_zero,[x,y],b)\n",
    "                 for x in xgrid]\n",
    "                for y in ygrid])\n",
    "if ret['success']==True:\n",
    "    plt.plot([p[0] for p in classA],\n",
    "            [p[1] for p in classA],\n",
    "            'b.')\n",
    "    plt.plot([p[0] for p in classB],\n",
    "            [p[1] for p in classB],\n",
    "            'r.')\n",
    "\n",
    "    plt.contour(xgrid,ygrid,grid,\n",
    "               (-1.0,0.0,1.0),\n",
    "               colors=('red','black','blue'),\n",
    "               linewidths=(1,3,1))\n",
    "\n",
    "\n",
    "    plt.axis('equal')\n",
    "    plt.savefig('svmplot.pdf')\n",
    "    plt.show()\n",
    "else:\n",
    "    print('Minimization failed succesfully')"
   ]
  },
  {
   "cell_type": "markdown",
   "metadata": {},
   "source": [
    "# ASSIGNMENT QUESTIONS"
   ]
  },
  {
   "cell_type": "markdown",
   "metadata": {},
   "source": [
    "<u><b>Question 1:</b></u> Move the clusters around and change their sizes to make it easier or harder for the classifier to find a decent boundary. Pay attention to when the optimizer (minimize function) is not able to find a solution at all. <br><br>\n",
    "<b>Answer:</b> The optimizer was not able to find a solution once the standard deviation went over 0.6. The higher standard deviation generated data that cannot be separated with a straight line. XC constraint is not equal to zero.\n",
    "<img src=\"equations/SD.png\">"
   ]
  },
  {
   "cell_type": "markdown",
   "metadata": {},
   "source": [
    "<u><b>Question 2:</u></b> Implement the two non-linear kernels. You should be able to classify very hard data sets with these. <br><br>\n",
    "<u><b>Answer:</u></b> <br>\n",
    "Polynomial Kernel (400 datapoints,0.3SD)<img src=\"equations/pol-1.png\">\n",
    "RBF Kernel (40 datapoints,1.2SD)<img src=\"equations/RBF-1.png\">"
   ]
  },
  {
   "cell_type": "markdown",
   "metadata": {},
   "source": [
    "<u><b>Question 3:</u></b> The non-linear kernels have parameters; explore how they influence the decision boundary. Reason about this in terms of the bias- variance trade-off. <br><br>\n",
    "<u><b>Answer:</u></b> <br>\n",
    "\n",
    "&bull; polynomial degree - Polynomial Kernel:\n",
    "\n",
    "The higher the degree, the more complex the polynomial. Bias decreases while Variance increases with higher degree polynomials.\n",
    "\n",
    "<img src=\"equations/pol-2.png\">\n",
    "<img src=\"equations/pol-3.png\">\n",
    "<img src=\"equations/pol-4.png\">\n",
    "\n",
    "&bull; Sigma - RBF Kernel:\n",
    "\n",
    "The curve smoothness increases with higher sigma values. This causes the curve to get straighter. With a straighter curve, the Bias increases, and the Variance decreases.\n",
    "<img src=\"equations/RBF-2.png\">\n",
    "<img src=\"equations/RBF-3.png\">\n",
    "<img src=\"equations/RBF-4.png\">"
   ]
  },
  {
   "cell_type": "markdown",
   "metadata": {},
   "source": [
    "<u><b>Question 4:</u></b> Explore the role of the slack parameter C. What happens for very large/small values?<br><br>\n",
    "<u><b>Answer:</u></b> <br>\n",
    "&bull; the C parameter sets the upper boundary on the alpha values. Lower C value allows for points to be within the margin. (see fig, C=2)<br>\n",
    "&bull; &uarr; C value will result in &darr; Slack, which will result in narrower margin.<br>\n",
    "&bull; If you have noisy data -> use low C value to allow for more slack.\n",
    "<img src=\"equations/C-1.png\">"
   ]
  },
  {
   "cell_type": "markdown",
   "metadata": {},
   "source": [
    "<u><b>Question 5:</u></b> Imagine that you are given data that is not easily separable. When should you opt for more slack rather than going for a more complex model (kernel) and vice versa?<br><br>\n",
    "<u><b>Answer:</u></b> <br>\n",
    "\n",
    "If the data is complex because of the presnece of outliers, then its best to use more slack. If the data has a higher standard deviation (more spread out), or impossible to classify with a straight line, then it is more relevant to use a complex kernel."
   ]
  },
  {
   "cell_type": "code",
   "execution_count": null,
   "metadata": {
    "scrolled": true
   },
   "outputs": [],
   "source": []
  }
 ],
 "metadata": {
  "kernelspec": {
   "display_name": "Python 3",
   "language": "python",
   "name": "python3"
  },
  "language_info": {
   "codemirror_mode": {
    "name": "ipython",
    "version": 3
   },
   "file_extension": ".py",
   "mimetype": "text/x-python",
   "name": "python",
   "nbconvert_exporter": "python",
   "pygments_lexer": "ipython3",
   "version": "3.6.9"
  }
 },
 "nbformat": 4,
 "nbformat_minor": 4
}
