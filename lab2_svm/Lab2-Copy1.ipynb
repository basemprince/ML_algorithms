{
 "cells": [
  {
   "cell_type": "code",
   "execution_count": 1,
   "metadata": {
    "scrolled": false
   },
   "outputs": [],
   "source": [
    "import numpy as np, random, math\n",
    "from scipy.optimize import minimize\n",
    "import matplotlib.pyplot as plt\n",
    "import collections"
   ]
  },
  {
   "cell_type": "markdown",
   "metadata": {},
   "source": [
    "&bull; Write a code for structuring the data so that the library routine can find the maximal-margin solution.<br>\n",
    "&bull; The location of the decesion boundary is given by the weights (w) and the bias (b).<br>\n",
    "&bull; Find the values for w and b which maximizes the margin (distance to any datapoint).\n",
    "<img src=\"equations/optimize.png\">"
   ]
  },
  {
   "cell_type": "markdown",
   "metadata": {},
   "source": [
    "&bull; &uarr; C value will result in &darr; Slack, which will result in narrower margin\n",
    "\n",
    "&bull; If you have noisy data -> use low C value to allow for more slack"
   ]
  },
  {
   "cell_type": "markdown",
   "metadata": {},
   "source": [
    "# Variables:"
   ]
  },
  {
   "cell_type": "code",
   "execution_count": 2,
   "metadata": {
    "scrolled": false
   },
   "outputs": [],
   "source": [
    "C = 2\n",
    "upper = False # upper boundary for bounds\n",
    "threshold = 10**-5 # zero threshold\n",
    "kernelType = 'pol' # type of kernel (lin,pol,RBF)\n",
    "np.random.seed(100)\n",
    "pointsN=40 # number of data points\n",
    "SD = 0.2 #standard Deviation in the data\n",
    "#kernel settings\n",
    "pol = 1 #polynomial degree\n",
    "sigma = 1 #smoothness of curve in RBF kernel"
   ]
  },
  {
   "cell_type": "markdown",
   "metadata": {},
   "source": [
    "&bull; The objective equation (dual formulation)\n",
    "<img src=\"equations/objective.png\">\n",
    "\n",
    "&bull; The optimization problem can be transformed into a different form, called the dual problem, which has some computational advantages.<br>\n",
    "&bull; It makes it possible to use the kernel trick, which eleminates the need for evualuating the transformation function."
   ]
  },
  {
   "cell_type": "code",
   "execution_count": 3,
   "metadata": {
    "scrolled": false
   },
   "outputs": [],
   "source": [
    "def objective (alpha):\n",
    "    return 0.5*np.dot(alpha,np.dot(alpha,pre_compute)) - np.sum(alpha)"
   ]
  },
  {
   "cell_type": "markdown",
   "metadata": {},
   "source": [
    "the Kernel equations:\n",
    "<img src=\"equations/linearK.png\">\n",
    "<img src=\"equations/polynomialK.png\">\n",
    "<img src=\"equations/RBFK.png\">"
   ]
  },
  {
   "cell_type": "code",
   "execution_count": 4,
   "metadata": {
    "scrolled": false
   },
   "outputs": [],
   "source": [
    "def kernel(a,b,pol,sigma):\n",
    "    if kernelType == 'lin':\n",
    "        return np.dot(a,b)\n",
    "    \n",
    "    elif kernelType == 'pol':\n",
    "        return (np.dot(a,b) + 1)**pol\n",
    "    \n",
    "    elif kernelType == 'RBF':\n",
    "        return math.exp(-np.linalg.norm(np.subtract(a,b),ord=2)/(2*sigma**2))\n",
    "    \n",
    "    elif kernelType == 'null':\n",
    "        return 2\n",
    "    else:\n",
    "        raise Exception(\"Kernel not found\")"
   ]
  },
  {
   "cell_type": "markdown",
   "metadata": {},
   "source": [
    "Lagrange multiplier constraints:\n",
    "<img src=\"equations/constraint.png\">"
   ]
  },
  {
   "cell_type": "code",
   "execution_count": 5,
   "metadata": {
    "scrolled": false
   },
   "outputs": [],
   "source": [
    "def zerofun (alpha):\n",
    "    \n",
    "    return np.dot(alpha,targets)"
   ]
  },
  {
   "cell_type": "markdown",
   "metadata": {},
   "source": [
    "bias (b) Value:\n",
    "<img src=\"equations/b.png\">"
   ]
  },
  {
   "cell_type": "code",
   "execution_count": 6,
   "metadata": {
    "scrolled": false
   },
   "outputs": [],
   "source": [
    "def b_calculator(non_zero):\n",
    "    b = 0\n",
    "    for current in non_zero:\n",
    "        b += current['alpha']*current['t']*kernel(non_zero[2]['in'],current['in'],pol,sigma)\n",
    "    return b - non_zero[2]['t']"
   ]
  },
  {
   "cell_type": "markdown",
   "metadata": {},
   "source": [
    "indicator equation:\n",
    "<img src=\"equations/indicator.png\">"
   ]
  },
  {
   "cell_type": "code",
   "execution_count": 7,
   "metadata": {
    "scrolled": false
   },
   "outputs": [],
   "source": [
    "def indicator(non_zero,unkown,b):\n",
    "    ind = 0\n",
    "    for current in non_zero:\n",
    "        ind += current['alpha']*current['t']*kernel(unkown,current['in'],pol,sigma)\n",
    "    return ind - b"
   ]
  },
  {
   "cell_type": "code",
   "execution_count": 8,
   "metadata": {
    "scrolled": false
   },
   "outputs": [],
   "source": [
    "#classA = np.concatenate((np.random.randn(int(pointsN/2),2)*SD+[1.5,0.5],\n",
    "                        #np.random.rand(int(pointsN/2),2)*SD+[-1.5,0.5]))\n",
    "classB = np.random.randn(pointsN,2)*SD+[0.0,-0.5]\n",
    "\n",
    "#classA = np.array([[1,3],[1,4],[1,5],[2,4],[2,6],[3,5],[3,6],[4,5],[5,6],[7,6]])\n",
    "classB = np.array([[2,1],[3,2],[4,2],[5,2],[6,1],[7,2]])\n",
    "\n",
    "classA = np.array([[-1.8,-1],\n",
    "                  [-1.2,0.2],\n",
    "                  [-1,-1],\n",
    "                  [-0.2,-1.8],\n",
    "                  [0.2,-1.5],\n",
    "                  [1.8,-2.1],\n",
    "                  [1.1,-0.8],\n",
    "                  [1.1,0.2],\n",
    "                  [0.8,1.2],\n",
    "                  [-0.5,1.2]])\n",
    "\n",
    "classB = np.array([[-0.8,0.2],\n",
    "                   [-0.7,-0.8],\n",
    "                   [-0.2,-0.8],\n",
    "                   [-0.1,0.8],\n",
    "                   [0.2,0.8],\n",
    "                   [0.5,0.8],\n",
    "                   [0,0.2],\n",
    "                   [0.2,0.1],\n",
    "                   [-0.8,0.8],\n",
    "                   [-0.1,0.8]])\n",
    "inputs = np.concatenate ((classA,classB))\n",
    "targets = np.concatenate (\n",
    "(np.ones(classA.shape[0]),\n",
    "-np.ones(classB.shape[0])))\n",
    "\n",
    "N = inputs.shape[0]\n",
    "\n",
    "permute = list(range(N))\n",
    "random.shuffle(permute)\n",
    "inputs = inputs[permute, :]\n",
    "targets = targets [permute]"
   ]
  },
  {
   "cell_type": "code",
   "execution_count": 9,
   "metadata": {
    "scrolled": false
   },
   "outputs": [],
   "source": [
    "pre_compute = np.zeros(shape=(N,N))\n",
    "for i in range(N):\n",
    "    for j in range(N):\n",
    "        pre_compute[i][j]=targets[i]*targets[j]*kernel(inputs[i],inputs[j],pol,sigma)"
   ]
  },
  {
   "cell_type": "code",
   "execution_count": 10,
   "metadata": {
    "scrolled": false
   },
   "outputs": [
    {
     "data": {
      "image/png": "[encoded data removed]",
      "text/plain": [
       "<Figure size 432x288 with 1 Axes>"
      ]
     },
     "metadata": {
      "needs_background": "light"
     },
     "output_type": "display_data"
    }
   ],
   "source": [
    "plt.plot([p[0] for p in classA],\n",
    "        [p[1] for p in classA],\n",
    "        'b.')\n",
    "plt.plot([p[0] for p in classB],\n",
    "        [p[1] for p in classB],\n",
    "        'r.')\n",
    "\n",
    "plt.axis('equal')\n",
    "plt.savefig('svmplot.pdf')\n",
    "plt.show()"
   ]
  },
  {
   "cell_type": "code",
   "execution_count": 11,
   "metadata": {
    "scrolled": false
   },
   "outputs": [
    {
     "name": "stdout",
     "output_type": "stream",
     "text": [
      "zero_function result:  -5.820766091346741e-11\n",
      "     fun: -4471892.518431908\n",
      "     jac: array([ 1574.    , -2749.6875,  2629.6875, -5876.75  , -2276.875 ,\n",
      "        -215.75  ,  -883.375 ,   836.375 , -1522.5   ,   322.6875,\n",
      "       -6245.9375,   136.25  ,   152.    ,  2845.75  , -2534.875 ,\n",
      "        1369.    ,  3502.8125,  1586.875 ,  1689.375 ,   880.    ])\n",
      " message: 'Optimization terminated successfully'\n",
      "    nfev: 2092\n",
      "     nit: 70\n",
      "    njev: 70\n",
      "  status: 0\n",
      " success: True\n",
      "       x: array([240164.1313039 , 187330.24982078, 347684.43764144, 153980.09481497,\n",
      "       103154.0502078 , 143629.16246465, 202079.18651715, 177297.60304621,\n",
      "       228642.32267528, 258192.69935566, 396048.16444895, 167060.35520451,\n",
      "        12381.14684388, 213338.20121583, 167274.12364989, 440101.39686111,\n",
      "        81727.91447788, 349200.88645715, 332543.82610142, 270232.52413156])\n"
     ]
    }
   ],
   "source": [
    "initial_guess = np.zeros(N)\n",
    "\n",
    "\n",
    "if upper:\n",
    "    B= [(0,C) for b in range(N)]\n",
    "else:\n",
    "    B= [(0,None) for b in range(N)]\n",
    "\n",
    "XC = {'type':'eq','fun':zerofun}\n",
    "\n",
    "ret = minimize(objective,initial_guess,bounds=B,constraints=XC)\n",
    "\n",
    "alpha = ret['x']\n",
    "print (\"zero_function result: \", np.dot(alpha,targets))\n",
    "print(ret)"
   ]
  },
  {
   "cell_type": "code",
   "execution_count": 12,
   "metadata": {
    "scrolled": false
   },
   "outputs": [
    {
     "data": {
      "text/plain": [
       "[{'alpha': 240164.1313039046, 'in': array([0. , 0.2]), 't': -1.0},\n",
       " {'alpha': 187330.24982078242, 'in': array([0.5, 0.8]), 't': -1.0},\n",
       " {'alpha': 347684.4376414396, 'in': array([-1.2,  0.2]), 't': 1.0},\n",
       " {'alpha': 153980.09481496806, 'in': array([ 1.1, -0.8]), 't': 1.0},\n",
       " {'alpha': 103154.05020779774, 'in': array([ 0.2, -1.5]), 't': 1.0},\n",
       " {'alpha': 143629.1624646518, 'in': array([-0.8,  0.8]), 't': -1.0},\n",
       " {'alpha': 202079.18651714947, 'in': array([-1., -1.]), 't': 1.0},\n",
       " {'alpha': 177297.6030462149, 'in': array([0.2, 0.8]), 't': -1.0},\n",
       " {'alpha': 228642.3226752827, 'in': array([-1.8, -1. ]), 't': 1.0},\n",
       " {'alpha': 258192.69935565916, 'in': array([0.2, 0.1]), 't': -1.0},\n",
       " {'alpha': 396048.1644489522, 'in': array([0.8, 1.2]), 't': 1.0},\n",
       " {'alpha': 167060.355204514, 'in': array([-0.1,  0.8]), 't': -1.0},\n",
       " {'alpha': 12381.146843878718, 'in': array([ 1.8, -2.1]), 't': 1.0},\n",
       " {'alpha': 213338.2012158292, 'in': array([-0.8,  0.2]), 't': -1.0},\n",
       " {'alpha': 167274.12364988547, 'in': array([-0.1,  0.8]), 't': -1.0},\n",
       " {'alpha': 440101.3968611121, 'in': array([-0.5,  1.2]), 't': 1.0},\n",
       " {'alpha': 81727.91447787508, 'in': array([-0.2, -1.8]), 't': 1.0},\n",
       " {'alpha': 349200.8864571527, 'in': array([-0.2, -0.8]), 't': -1.0},\n",
       " {'alpha': 332543.82610142283, 'in': array([-0.7, -0.8]), 't': -1.0},\n",
       " {'alpha': 270232.52413156134, 'in': array([1.1, 0.2]), 't': 1.0}]"
      ]
     },
     "execution_count": 12,
     "metadata": {},
     "output_type": "execute_result"
    }
   ],
   "source": [
    "non_zero = []\n",
    "for i, a in enumerate(alpha):\n",
    "    #print(a)\n",
    "    if a > threshold:\n",
    "        non_zero.append({'alpha':a,'in':inputs[i],'t':targets[i]})\n",
    "non_zero"
   ]
  },
  {
   "cell_type": "code",
   "execution_count": 13,
   "metadata": {
    "scrolled": false
   },
   "outputs": [],
   "source": [
    "b = b_calculator(non_zero)"
   ]
  },
  {
   "cell_type": "code",
   "execution_count": 14,
   "metadata": {
    "scrolled": false
   },
   "outputs": [
    {
     "data": {
      "image/png": "[encoded data removed]",
      "text/plain": [
       "<Figure size 432x288 with 1 Axes>"
      ]
     },
     "metadata": {
      "needs_background": "light"
     },
     "output_type": "display_data"
    }
   ],
   "source": [
    "x_limits = 2\n",
    "y_limits = 2\n",
    "xgrid = np.linspace(-x_limits,x_limits)\n",
    "ygrid = np.linspace(-y_limits,y_limits)\n",
    "\n",
    "grid = np.array([[indicator(non_zero,[x,y],b)\n",
    "                 for x in xgrid]\n",
    "                for y in ygrid])\n",
    "if ret['success']==True:\n",
    "    plt.plot([p[0] for p in classA],\n",
    "            [p[1] for p in classA],\n",
    "            'b.')\n",
    "    plt.plot([p[0] for p in classB],\n",
    "            [p[1] for p in classB],\n",
    "            'r.')\n",
    "\n",
    "    plt.contour(xgrid,ygrid,grid,\n",
    "               (-1.0,0.0,1.0),\n",
    "               colors=('red','black','blue'),\n",
    "               linewidths=(1,3,1))\n",
    "\n",
    "\n",
    "    plt.axis('equal')\n",
    "    plt.savefig('svmplot.pdf')\n",
    "    plt.show()\n",
    "else:\n",
    "    print('Minimization failed succesfully')"
   ]
  },
  {
   "cell_type": "code",
   "execution_count": null,
   "metadata": {
    "scrolled": true
   },
   "outputs": [],
   "source": []
  }
 ],
 "metadata": {
  "kernelspec": {
   "display_name": "Python 3",
   "language": "python",
   "name": "python3"
  },
  "language_info": {
   "codemirror_mode": {
    "name": "ipython",
    "version": 3
   },
   "file_extension": ".py",
   "mimetype": "text/x-python",
   "name": "python",
   "nbconvert_exporter": "python",
   "pygments_lexer": "ipython3",
   "version": "3.6.9"
  }
 },
 "nbformat": 4,
 "nbformat_minor": 4
}
